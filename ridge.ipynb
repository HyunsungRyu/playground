{
 "cells": [
  {
   "cell_type": "markdown",
   "id": "a1f24f16",
   "metadata": {},
   "source": [
    "$$\n",
    "\\hat{\\theta} = (X^T X + \\alpha A)^{-1} X^T y\n",
    "$$"
   ]
  },
  {
   "cell_type": "code",
   "execution_count": 44,
   "id": "4b01f8a4",
   "metadata": {},
   "outputs": [],
   "source": [
    "import numpy as np\n",
    "import pandas as pd"
   ]
  },
  {
   "cell_type": "code",
   "execution_count": 45,
   "id": "291be824",
   "metadata": {},
   "outputs": [],
   "source": [
    "np.random.seed(42)\n",
    "\n",
    "X = np.random.randn(100, 3)\n",
    "\n",
    "# y = X1 + 3X2 + 4X3 + noise\n",
    "y = X[:, 0] + 3*X[:, 1] + 4*X[:, 2] + np.random.randn(100)"
   ]
  },
  {
   "cell_type": "code",
   "execution_count": 46,
   "id": "4ab8f80a",
   "metadata": {},
   "outputs": [],
   "source": [
    "def ridge_regression(X, y, alpha):\n",
    "    # X^T X 계산\n",
    "    XtX = np.dot(X.T, X)\n",
    "    \n",
    "    # 알파 * I 계산 (정규화 항)\n",
    "    I = np.eye(X.shape[1])  # 특성 수에 맞는 항등행렬\n",
    "    \n",
    "    # (X^T X + αI) 계산\n",
    "    XtX_plus_alphaI = XtX + alpha * I\n",
    "    \n",
    "    # 역행렬 계산\n",
    "    XtX_plus_alphaI_inv = np.linalg.inv(XtX_plus_alphaI)\n",
    "    \n",
    "    # 세타 계산\n",
    "    theta_hat = np.dot(XtX_plus_alphaI_inv, np.dot(X.T, y))\n",
    "    \n",
    "    return theta_hat"
   ]
  },
  {
   "cell_type": "code",
   "execution_count": null,
   "id": "67f44e9f",
   "metadata": {},
   "outputs": [
    {
     "data": {
      "text/plain": [
       "'alpha : 1.0 [0.91476997 2.89434599 3.86063267]'"
      ]
     },
     "metadata": {},
     "output_type": "display_data"
    },
    {
     "data": {
      "text/plain": [
       "'alpha : 10.0 [0.74854182 2.60358929 3.55476034]'"
      ]
     },
     "metadata": {},
     "output_type": "display_data"
    },
    {
     "data": {
      "text/plain": [
       "'alpha : 100.0 [0.21010711 1.29186683 2.00991246]'"
      ]
     },
     "metadata": {},
     "output_type": "display_data"
    }
   ],
   "source": [
    "# 규제 강도 | 작을수록 규제가 약해짐 -> 가중치는 커지고, 데이터에 더 민감해짐\n",
    "alpha = [1.0, 10.0, 100.0]\n",
    "\n",
    "for a in alpha:\n",
    "    theta_hat = ridge_regression(X, y, a)\n",
    "    display(f\"alpha : {a} {theta_hat}\")"
   ]
  }
 ],
 "metadata": {
  "kernelspec": {
   "display_name": ".venv",
   "language": "python",
   "name": "python3"
  },
  "language_info": {
   "codemirror_mode": {
    "name": "ipython",
    "version": 3
   },
   "file_extension": ".py",
   "mimetype": "text/x-python",
   "name": "python",
   "nbconvert_exporter": "python",
   "pygments_lexer": "ipython3",
   "version": "3.11.2"
  }
 },
 "nbformat": 4,
 "nbformat_minor": 5
}
